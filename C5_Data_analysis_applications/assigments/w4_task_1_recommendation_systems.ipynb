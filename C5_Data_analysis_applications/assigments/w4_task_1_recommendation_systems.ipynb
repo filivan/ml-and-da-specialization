{
 "cells": [
  {
   "cell_type": "markdown",
   "metadata": {},
   "source": [
    "## Рекомендательные системы"
   ]
  },
  {
   "cell_type": "markdown",
   "metadata": {},
   "source": [
    "### Описание задачи\n",
    "Небольшой интернет-магазин попросил вас добавить ранжирование товаров в блок \"Смотрели ранее\" - в нем теперь надо показывать не последние просмотренные пользователем товары, а те товары из просмотренных, которые он наиболее вероятно купит. Качество вашего решения будет оцениваться по количеству покупок в сравнении с прошлым решением в ходе А/В теста, т.к. по доходу от продаж статзначимость будет достигаться дольше из-за разброса цен. Таким образом, ничего заранее не зная про корреляцию оффлайновых и онлайновых метрик качества, в начале проекта вы можете лишь постараться оптимизировать recall@k и precision@k.  \n",
    "Это задание посвящено построению простых бейзлайнов для этой задачи: ранжирование просмотренных товаров по частоте просмотров и по частоте покупок. Эти бейзлайны, с одной стороны, могут помочь вам грубо оценить возможный эффект от ранжирования товаров в блоке - например, чтобы вписать какие-то числа в коммерческое предложение заказчику, а с другой стороны, могут оказаться самым хорошим вариантом, если данных очень мало (недостаточно для обучения даже простых моделей).\n",
    "\n",
    "***Входные данные***\n",
    "\n",
    "Вам дается две выборки с пользовательскими сессиями - id-шниками просмотренных и id-шниками купленных товаров. Одна выборка будет использоваться для обучения (оценки популярностей товаров), а другая - для теста.  \n",
    "В файлах записаны сессии по одной в каждой строке. Формат сессии: id просмотренных товаров через , затем идёт ; после чего следуют id купленных товаров (если такие имеются), разделённые запятой. Например, 1,2,3,4; или 1,2,3,4;5,6.  \n",
    "Гарантируется, что среди id купленных товаров все различные."
   ]
  },
  {
   "cell_type": "markdown",
   "metadata": {},
   "source": [
    "***Важно:***\n",
    "* Сессии, в которых пользователь ничего не купил, исключаем из оценки качества.\n",
    "* Если товар не встречался в обучающей выборке, его популярность равна 0.\n",
    "* Рекомендуем разные товары. И их число должно быть не больше, чем количество различных просмотренных пользователем товаров.\n",
    "* Рекомендаций всегда не больше, чем минимум из двух чисел: количество просмотренных пользователем товаров и k в recall@k / precision@k."
   ]
  },
  {
   "cell_type": "code",
   "execution_count": 1,
   "metadata": {},
   "outputs": [],
   "source": [
    "import pandas as pd\n",
    "import numpy as np\n",
    "import collections\n",
    "import warnings\n",
    "\n",
    "warnings.filterwarnings('ignore')"
   ]
  },
  {
   "cell_type": "code",
   "execution_count": 2,
   "metadata": {},
   "outputs": [
    {
     "data": {
      "text/html": [
       "<div>\n",
       "<style scoped>\n",
       "    .dataframe tbody tr th:only-of-type {\n",
       "        vertical-align: middle;\n",
       "    }\n",
       "\n",
       "    .dataframe tbody tr th {\n",
       "        vertical-align: top;\n",
       "    }\n",
       "\n",
       "    .dataframe thead th {\n",
       "        text-align: right;\n",
       "    }\n",
       "</style>\n",
       "<table border=\"1\" class=\"dataframe\">\n",
       "  <thead>\n",
       "    <tr style=\"text-align: right;\">\n",
       "      <th></th>\n",
       "      <th>seen</th>\n",
       "      <th>bought</th>\n",
       "    </tr>\n",
       "  </thead>\n",
       "  <tbody>\n",
       "    <tr>\n",
       "      <th>0</th>\n",
       "      <td>0,1,2,3,4,5</td>\n",
       "      <td>NaN</td>\n",
       "    </tr>\n",
       "    <tr>\n",
       "      <th>1</th>\n",
       "      <td>9,10,11,9,11,12,9,11</td>\n",
       "      <td>NaN</td>\n",
       "    </tr>\n",
       "    <tr>\n",
       "      <th>2</th>\n",
       "      <td>16,17,18,19,20,21</td>\n",
       "      <td>NaN</td>\n",
       "    </tr>\n",
       "    <tr>\n",
       "      <th>3</th>\n",
       "      <td>24,25,26,27,24</td>\n",
       "      <td>NaN</td>\n",
       "    </tr>\n",
       "    <tr>\n",
       "      <th>4</th>\n",
       "      <td>34,35,36,34,37,35,36,37,38,39,38,39</td>\n",
       "      <td>NaN</td>\n",
       "    </tr>\n",
       "  </tbody>\n",
       "</table>\n",
       "</div>"
      ],
      "text/plain": [
       "                                  seen bought\n",
       "0                          0,1,2,3,4,5    NaN\n",
       "1                 9,10,11,9,11,12,9,11    NaN\n",
       "2                    16,17,18,19,20,21    NaN\n",
       "3                       24,25,26,27,24    NaN\n",
       "4  34,35,36,34,37,35,36,37,38,39,38,39    NaN"
      ]
     },
     "execution_count": 2,
     "metadata": {},
     "output_type": "execute_result"
    }
   ],
   "source": [
    "train = pd.read_csv(\"data/coursera_sessions_train.txt\", sep=';', header=None, names=[\"seen\", \"bought\"])\n",
    "train.head()"
   ]
  },
  {
   "cell_type": "code",
   "execution_count": 3,
   "metadata": {},
   "outputs": [
    {
     "data": {
      "text/html": [
       "<div>\n",
       "<style scoped>\n",
       "    .dataframe tbody tr th:only-of-type {\n",
       "        vertical-align: middle;\n",
       "    }\n",
       "\n",
       "    .dataframe tbody tr th {\n",
       "        vertical-align: top;\n",
       "    }\n",
       "\n",
       "    .dataframe thead th {\n",
       "        text-align: right;\n",
       "    }\n",
       "</style>\n",
       "<table border=\"1\" class=\"dataframe\">\n",
       "  <thead>\n",
       "    <tr style=\"text-align: right;\">\n",
       "      <th></th>\n",
       "      <th>seen</th>\n",
       "      <th>bought</th>\n",
       "    </tr>\n",
       "  </thead>\n",
       "  <tbody>\n",
       "    <tr>\n",
       "      <th>7</th>\n",
       "      <td>63,68,69,70,66,61,59,61,66,68</td>\n",
       "      <td>66,63</td>\n",
       "    </tr>\n",
       "    <tr>\n",
       "      <th>14</th>\n",
       "      <td>158,159,160,159,161,162</td>\n",
       "      <td>162</td>\n",
       "    </tr>\n",
       "    <tr>\n",
       "      <th>19</th>\n",
       "      <td>200,201,202,203,204</td>\n",
       "      <td>201,205</td>\n",
       "    </tr>\n",
       "    <tr>\n",
       "      <th>34</th>\n",
       "      <td>371,372,371</td>\n",
       "      <td>371,373</td>\n",
       "    </tr>\n",
       "    <tr>\n",
       "      <th>40</th>\n",
       "      <td>422</td>\n",
       "      <td>422</td>\n",
       "    </tr>\n",
       "  </tbody>\n",
       "</table>\n",
       "</div>"
      ],
      "text/plain": [
       "                             seen   bought\n",
       "7   63,68,69,70,66,61,59,61,66,68    66,63\n",
       "14        158,159,160,159,161,162      162\n",
       "19            200,201,202,203,204  201,205\n",
       "34                    371,372,371  371,373\n",
       "40                            422      422"
      ]
     },
     "execution_count": 3,
     "metadata": {},
     "output_type": "execute_result"
    }
   ],
   "source": [
    "test = pd.read_csv(\"data/coursera_sessions_test.txt\", sep=';', header=None, names=[\"seen\", \"bought\"]).dropna()\n",
    "test.head()"
   ]
  },
  {
   "cell_type": "markdown",
   "metadata": {},
   "source": [
    "**1.** На обучении постройте частоты появления id в просмотренных и в купленных (id может несколько раз появляться в просмотренных, все появления надо учитывать)"
   ]
  },
  {
   "cell_type": "code",
   "execution_count": 4,
   "metadata": {},
   "outputs": [],
   "source": [
    "seen_frequences = pd.Series(','.join(train[\"seen\"].values).split(',')).value_counts()\n",
    "train.dropna(inplace=True)\n",
    "bought_frequences = pd.Series(','.join(train[\"bought\"].values).split(',')).value_counts()"
   ]
  },
  {
   "cell_type": "markdown",
   "metadata": {},
   "source": [
    "**2.** Реализуйте два алгоритма рекомендаций:"
   ]
  },
  {
   "cell_type": "markdown",
   "metadata": {},
   "source": [
    "2.1 сортировка просмотренных id по популярности (частота появления в просмотренных)"
   ]
  },
  {
   "cell_type": "code",
   "execution_count": 5,
   "metadata": {},
   "outputs": [
    {
     "data": {
      "text/html": [
       "<div>\n",
       "<style scoped>\n",
       "    .dataframe tbody tr th:only-of-type {\n",
       "        vertical-align: middle;\n",
       "    }\n",
       "\n",
       "    .dataframe tbody tr th {\n",
       "        vertical-align: top;\n",
       "    }\n",
       "\n",
       "    .dataframe thead th {\n",
       "        text-align: right;\n",
       "    }\n",
       "</style>\n",
       "<table border=\"1\" class=\"dataframe\">\n",
       "  <thead>\n",
       "    <tr style=\"text-align: right;\">\n",
       "      <th></th>\n",
       "      <th>seen</th>\n",
       "      <th>bought</th>\n",
       "      <th>rec_by_seen</th>\n",
       "    </tr>\n",
       "  </thead>\n",
       "  <tbody>\n",
       "    <tr>\n",
       "      <th>7</th>\n",
       "      <td>59,60,61,62,60,63,64,65,66,61,67,68,67</td>\n",
       "      <td>67,60,63</td>\n",
       "      <td>[63, 64, 60, 61, 65, 66, 67, 68, 59, 62]</td>\n",
       "    </tr>\n",
       "    <tr>\n",
       "      <th>10</th>\n",
       "      <td>84,85,86,87,88,89,84,90,91,92,93,86</td>\n",
       "      <td>86</td>\n",
       "      <td>[85, 93, 89, 90, 84, 92, 86, 87, 91, 88]</td>\n",
       "    </tr>\n",
       "    <tr>\n",
       "      <th>19</th>\n",
       "      <td>138,198,199,127</td>\n",
       "      <td>199</td>\n",
       "      <td>[127, 138, 198, 199]</td>\n",
       "    </tr>\n",
       "    <tr>\n",
       "      <th>30</th>\n",
       "      <td>303,304,305,306,307,308,309,310,311,312</td>\n",
       "      <td>303</td>\n",
       "      <td>[303, 306, 304, 307, 309, 310, 305, 308, 311, ...</td>\n",
       "    </tr>\n",
       "    <tr>\n",
       "      <th>33</th>\n",
       "      <td>352,353,352</td>\n",
       "      <td>352</td>\n",
       "      <td>[352, 353]</td>\n",
       "    </tr>\n",
       "  </tbody>\n",
       "</table>\n",
       "</div>"
      ],
      "text/plain": [
       "                                       seen    bought  \\\n",
       "7    59,60,61,62,60,63,64,65,66,61,67,68,67  67,60,63   \n",
       "10      84,85,86,87,88,89,84,90,91,92,93,86        86   \n",
       "19                          138,198,199,127       199   \n",
       "30  303,304,305,306,307,308,309,310,311,312       303   \n",
       "33                              352,353,352       352   \n",
       "\n",
       "                                          rec_by_seen  \n",
       "7            [63, 64, 60, 61, 65, 66, 67, 68, 59, 62]  \n",
       "10           [85, 93, 89, 90, 84, 92, 86, 87, 91, 88]  \n",
       "19                               [127, 138, 198, 199]  \n",
       "30  [303, 306, 304, 307, 309, 310, 305, 308, 311, ...  \n",
       "33                                         [352, 353]  "
      ]
     },
     "execution_count": 5,
     "metadata": {},
     "output_type": "execute_result"
    }
   ],
   "source": [
    "train[\"rec_by_seen\"] = train.apply(\n",
    "    lambda x: list(pd.DataFrame(seen_frequences.reindex(pd.unique(x[\"seen\"].split(','))).fillna(0)).sort_values(by=0, ascending=False, kind='mergesort').index),\n",
    "    axis=1\n",
    "    )\n",
    "test[\"rec_by_seen\"] = test.apply(\n",
    "    lambda x: list(pd.DataFrame(seen_frequences.reindex(pd.unique(x[\"seen\"].split(','))).fillna(0)).sort_values(by=0, ascending=False, kind='mergesort').index),\n",
    "    axis=1\n",
    "    )\n",
    "train.head()"
   ]
  },
  {
   "cell_type": "markdown",
   "metadata": {},
   "source": [
    "2.2 сортировка просмотренных id по покупаемости (частота появления в покупках)."
   ]
  },
  {
   "cell_type": "code",
   "execution_count": 6,
   "metadata": {},
   "outputs": [
    {
     "data": {
      "text/html": [
       "<div>\n",
       "<style scoped>\n",
       "    .dataframe tbody tr th:only-of-type {\n",
       "        vertical-align: middle;\n",
       "    }\n",
       "\n",
       "    .dataframe tbody tr th {\n",
       "        vertical-align: top;\n",
       "    }\n",
       "\n",
       "    .dataframe thead th {\n",
       "        text-align: right;\n",
       "    }\n",
       "</style>\n",
       "<table border=\"1\" class=\"dataframe\">\n",
       "  <thead>\n",
       "    <tr style=\"text-align: right;\">\n",
       "      <th></th>\n",
       "      <th>seen</th>\n",
       "      <th>bought</th>\n",
       "      <th>rec_by_seen</th>\n",
       "      <th>rec_by_bought</th>\n",
       "    </tr>\n",
       "  </thead>\n",
       "  <tbody>\n",
       "    <tr>\n",
       "      <th>7</th>\n",
       "      <td>59,60,61,62,60,63,64,65,66,61,67,68,67</td>\n",
       "      <td>67,60,63</td>\n",
       "      <td>[63, 64, 60, 61, 65, 66, 67, 68, 59, 62]</td>\n",
       "      <td>[60, 63, 67, 59, 61, 62, 64, 65, 66, 68]</td>\n",
       "    </tr>\n",
       "    <tr>\n",
       "      <th>10</th>\n",
       "      <td>84,85,86,87,88,89,84,90,91,92,93,86</td>\n",
       "      <td>86</td>\n",
       "      <td>[85, 93, 89, 90, 84, 92, 86, 87, 91, 88]</td>\n",
       "      <td>[86, 85, 93, 84, 87, 88, 89, 90, 91, 92]</td>\n",
       "    </tr>\n",
       "    <tr>\n",
       "      <th>19</th>\n",
       "      <td>138,198,199,127</td>\n",
       "      <td>199</td>\n",
       "      <td>[127, 138, 198, 199]</td>\n",
       "      <td>[138, 199, 127, 198]</td>\n",
       "    </tr>\n",
       "    <tr>\n",
       "      <th>30</th>\n",
       "      <td>303,304,305,306,307,308,309,310,311,312</td>\n",
       "      <td>303</td>\n",
       "      <td>[303, 306, 304, 307, 309, 310, 305, 308, 311, ...</td>\n",
       "      <td>[303, 304, 305, 306, 307, 308, 309, 310, 311, ...</td>\n",
       "    </tr>\n",
       "    <tr>\n",
       "      <th>33</th>\n",
       "      <td>352,353,352</td>\n",
       "      <td>352</td>\n",
       "      <td>[352, 353]</td>\n",
       "      <td>[352, 353]</td>\n",
       "    </tr>\n",
       "  </tbody>\n",
       "</table>\n",
       "</div>"
      ],
      "text/plain": [
       "                                       seen    bought  \\\n",
       "7    59,60,61,62,60,63,64,65,66,61,67,68,67  67,60,63   \n",
       "10      84,85,86,87,88,89,84,90,91,92,93,86        86   \n",
       "19                          138,198,199,127       199   \n",
       "30  303,304,305,306,307,308,309,310,311,312       303   \n",
       "33                              352,353,352       352   \n",
       "\n",
       "                                          rec_by_seen  \\\n",
       "7            [63, 64, 60, 61, 65, 66, 67, 68, 59, 62]   \n",
       "10           [85, 93, 89, 90, 84, 92, 86, 87, 91, 88]   \n",
       "19                               [127, 138, 198, 199]   \n",
       "30  [303, 306, 304, 307, 309, 310, 305, 308, 311, ...   \n",
       "33                                         [352, 353]   \n",
       "\n",
       "                                        rec_by_bought  \n",
       "7            [60, 63, 67, 59, 61, 62, 64, 65, 66, 68]  \n",
       "10           [86, 85, 93, 84, 87, 88, 89, 90, 91, 92]  \n",
       "19                               [138, 199, 127, 198]  \n",
       "30  [303, 304, 305, 306, 307, 308, 309, 310, 311, ...  \n",
       "33                                         [352, 353]  "
      ]
     },
     "execution_count": 6,
     "metadata": {},
     "output_type": "execute_result"
    }
   ],
   "source": [
    "train[\"rec_by_bought\"] = train.apply(\n",
    "    lambda x: list(pd.DataFrame(bought_frequences.reindex(pd.unique(x[\"seen\"].split(','))).fillna(0)).sort_values(by=0, ascending=False, kind='mergesort').index),\n",
    "    axis=1)\n",
    "test[\"rec_by_bought\"] = test.apply(\n",
    "    lambda x: list(pd.DataFrame(bought_frequences.reindex(pd.unique(x[\"seen\"].split(','))).fillna(0)).sort_values(by=0, ascending=False, kind='mergesort').index),\n",
    "    axis=1)\n",
    "train.head()"
   ]
  },
  {
   "cell_type": "markdown",
   "metadata": {},
   "source": [
    "**3.** Для данных алгоритмов выпишите через пробел **AverageRecall@1**, **AveragePrecision@1**, **AverageRecall@5**, **AveragePrecision@5** на обучающей и тестовых выборках, округляя до 2 знака после запятой. Это будут ваши ответы в этом задании. Посмотрите, как они соотносятся друг с другом.   \n",
    "Где качество получилось выше?  \n",
    "Значимо ли это различие?  \n",
    "Обратите внимание на различие качества на обучающей и тестовой выборке в случае рекомендаций по частотам покупки.  \n",
    "\n",
    "Если частота одинаковая, то сортировать нужно по возрастанию момента просмотра (чем раньше появился в просмотренных, тем больше приоритет)\n"
   ]
  },
  {
   "cell_type": "code",
   "execution_count": 7,
   "metadata": {},
   "outputs": [],
   "source": [
    "def get_average_recall_precision_k(dataset, recomend_by_column, k_array):\n",
    "    average_recall_precision = []\n",
    "    for k in k_array:\n",
    "        average_recall_precision.append(np.round(dataset.apply(lambda row:\n",
    "                                                                    len(set.intersection(set(row[\"bought\"].split(',')),\n",
    "                                                                                            set(row[recomend_by_column][:k])))\n",
    "                                                                    /(len(row[\"bought\"].split(','))),\n",
    "                                                                axis=1).mean(), 2))\n",
    "        average_recall_precision.append(np.round(dataset.apply(lambda row: \n",
    "                                                                    len(set.intersection(set(row[\"bought\"].split(',')),\n",
    "                                                                                         set(row[recomend_by_column][:k]))) /\n",
    "                                                                    k,\n",
    "                                                                axis=1).mean(), 2))\n",
    "    return average_recall_precision"
   ]
  },
  {
   "cell_type": "code",
   "execution_count": 8,
   "metadata": {},
   "outputs": [],
   "source": [
    "def save_answerArray(fname,array):\n",
    "    with open(fname,\"w\") as fout:\n",
    "        fout.write(\" \".join([str(el) for el in array]))"
   ]
  },
  {
   "cell_type": "code",
   "execution_count": 9,
   "metadata": {},
   "outputs": [
    {
     "name": "stdout",
     "output_type": "stream",
     "text": [
      "Report on train, rec_by_seen:\n",
      "         AverageRecall@1 = 0.44\n",
      "         AveragePrecision@1 = 0.51\n",
      "         AverageRecall@5 = 0.82\n",
      "         AveragePrecision@5 = 0.21\n",
      "Report on train, rec_by_bought:\n",
      "         AverageRecall@1 = 0.69\n",
      "         AveragePrecision@1 = 0.8\n",
      "         AverageRecall@5 = 0.93\n",
      "         AveragePrecision@5 = 0.25\n",
      "Report on test, rec_by_seen:\n",
      "         AverageRecall@1 = 0.42\n",
      "         AveragePrecision@1 = 0.48\n",
      "         AverageRecall@5 = 0.8\n",
      "         AveragePrecision@5 = 0.2\n",
      "Report on test, rec_by_bought:\n",
      "         AverageRecall@1 = 0.46\n",
      "         AveragePrecision@1 = 0.53\n",
      "         AverageRecall@5 = 0.82\n",
      "         AveragePrecision@5 = 0.21\n"
     ]
    }
   ],
   "source": [
    "datasets = {\"train\" : train,\n",
    "            \"test\" : test}\n",
    "rec_by_array = [\"rec_by_seen\", \"rec_by_bought\"]\n",
    "k_array = [1, 5]\n",
    "\n",
    "for dataset in datasets:\n",
    "    for rec_by_column in rec_by_array:\n",
    "        average_recall_precision_k = get_average_recall_precision_k(datasets[dataset], rec_by_column, k_array)\n",
    "        save_answerArray(f\"answers\\w4_task_1\\\\{dataset}_{rec_by_column}.txt\", average_recall_precision_k)    \n",
    "        print(f\"Report on {dataset}, {rec_by_column}:\\n \\\n",
    "        AverageRecall@1 = {average_recall_precision_k[0]}\\n \\\n",
    "        AveragePrecision@1 = {average_recall_precision_k[1]}\\n \\\n",
    "        AverageRecall@5 = {average_recall_precision_k[2]}\\n \\\n",
    "        AveragePrecision@5 = {average_recall_precision_k[3]}\")\n"
   ]
  },
  {
   "cell_type": "markdown",
   "metadata": {},
   "source": [
    "**Вывод**: Рекомендательная система, которая учитывает частоту покупок товаров для просмотренных даёт результат выше, чем система, которая рекомендует просмотренные товары по их популярности. И здесь можно найти логическое обоснование, люди посмотрев некоторое число товаров, вероятней всего придут к покупки того же товара, что и другие люди, которые посмотрели такие же (или подобные) товары."
   ]
  }
 ],
 "metadata": {
  "interpreter": {
   "hash": "854f4b515b92a7a5c60444570a82f986451350542374fb6af1d9a6ca86983337"
  },
  "kernelspec": {
   "display_name": "Python 3.9.9 64-bit",
   "language": "python",
   "name": "python3"
  },
  "language_info": {
   "codemirror_mode": {
    "name": "ipython",
    "version": 3
   },
   "file_extension": ".py",
   "mimetype": "text/x-python",
   "name": "python",
   "nbconvert_exporter": "python",
   "pygments_lexer": "ipython3",
   "version": "3.9.9"
  },
  "orig_nbformat": 4
 },
 "nbformat": 4,
 "nbformat_minor": 2
}
